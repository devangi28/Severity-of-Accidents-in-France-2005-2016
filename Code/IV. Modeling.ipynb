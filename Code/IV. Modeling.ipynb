{
 "cells": [
  {
   "cell_type": "markdown",
   "metadata": {},
   "source": [
    "## IV. Modelling"
   ]
  },
  {
   "cell_type": "markdown",
   "metadata": {},
   "source": [
    "### 1. Predicting outputs with multiple values "
   ]
  },
  {
   "cell_type": "code",
   "execution_count": 88,
   "metadata": {},
   "outputs": [],
   "source": [
    "# Classifiers \n",
    "from  sklearn.tree  import  DecisionTreeClassifier \n",
    "from  sklearn.ensemble  import  RandomForestClassifier ,  GradientBoostingClassifier \n",
    "from  sklearn.linear_model  import  LogisticRegression\n",
    "from sklearn.svm import LinearSVC\n",
    "\n",
    "# Metrics & Corss-Validation \n",
    "from  sklearn.model_selection  import   train_test_split \n",
    "from  sklearn.metrics  import  ( accuracy_score ,  precision_score ,  recall_score ,  f1_score , \n",
    "                             classification_report ,  confusion_matrix )\n",
    "\n",
    "import  warnings \n",
    "warnings . filterwarnings ( 'ignore' )"
   ]
  },
  {
   "cell_type": "code",
   "execution_count": 89,
   "metadata": {},
   "outputs": [],
   "source": [
    "# Merging DataFrame in order to create a global one. \n",
    "df = pd . merge ( merge_caracUsagers1 ,  df_places ,  how = 'inner' ,  on = 'Num_Acc' )\n"
   ]
  },
  {
   "cell_type": "code",
   "execution_count": 90,
   "metadata": {},
   "outputs": [
    {
     "name": "stdout",
     "output_type": "stream",
     "text": [
      "<class 'pandas.core.frame.DataFrame'>\n",
      "RangeIndex: 839985 entries, 0 to 839984\n",
      "Data columns (total 18 columns):\n",
      " #   Column   Non-Null Count   Dtype  \n",
      "---  ------   --------------   -----  \n",
      " 0   Num_Acc  839985 non-null  int64  \n",
      " 1   catr     839984 non-null  float64\n",
      " 2   voie     780914 non-null  object \n",
      " 3   v1       332816 non-null  float64\n",
      " 4   v2       33953 non-null   object \n",
      " 5   circ     839187 non-null  float64\n",
      " 6   nbv      838195 non-null  float64\n",
      " 7   pr       414770 non-null  float64\n",
      " 8   pr1      413463 non-null  float64\n",
      " 9   vosp     838345 non-null  float64\n",
      " 10  prof     838924 non-null  float64\n",
      " 11  plan     838909 non-null  float64\n",
      " 12  lartpc   830440 non-null  float64\n",
      " 13  larrout  831706 non-null  float64\n",
      " 14  surf     838968 non-null  float64\n",
      " 15  infra    838707 non-null  float64\n",
      " 16  situ     838983 non-null  float64\n",
      " 17  env1     838709 non-null  float64\n",
      "dtypes: float64(15), int64(1), object(2)\n",
      "memory usage: 115.4+ MB\n"
     ]
    }
   ],
   "source": [
    "df_places.info()"
   ]
  },
  {
   "cell_type": "code",
   "execution_count": 91,
   "metadata": {},
   "outputs": [],
   "source": [
    "dfglobal =  df [[ 'Num_Acc' , 'year' , 'month' , 'day' , 'hour' , 'agg' , 'lum' , 'dep' , 'int' ,  'atm' , 'catr' , 'catu' , 'sexe' , 'secu' , 'grav' , 'situ' , \n",
    "                   'plan' , 'env1', 'prof' ]] \n",
    "dfglobal = dfglobal. dropna ()"
   ]
  },
  {
   "cell_type": "code",
   "execution_count": 92,
   "metadata": {},
   "outputs": [
    {
     "data": {
      "text/html": [
       "<div>\n",
       "<style scoped>\n",
       "    .dataframe tbody tr th:only-of-type {\n",
       "        vertical-align: middle;\n",
       "    }\n",
       "\n",
       "    .dataframe tbody tr th {\n",
       "        vertical-align: top;\n",
       "    }\n",
       "\n",
       "    .dataframe thead th {\n",
       "        text-align: right;\n",
       "    }\n",
       "</style>\n",
       "<table border=\"1\" class=\"dataframe\">\n",
       "  <thead>\n",
       "    <tr style=\"text-align: right;\">\n",
       "      <th></th>\n",
       "      <th>Num_Acc</th>\n",
       "      <th>year</th>\n",
       "      <th>month</th>\n",
       "      <th>day</th>\n",
       "      <th>hour</th>\n",
       "      <th>agg</th>\n",
       "      <th>lum</th>\n",
       "      <th>dep</th>\n",
       "      <th>int</th>\n",
       "      <th>atm</th>\n",
       "      <th>catr</th>\n",
       "      <th>catu</th>\n",
       "      <th>sexe</th>\n",
       "      <th>secu</th>\n",
       "      <th>grav</th>\n",
       "      <th>situ</th>\n",
       "      <th>plan</th>\n",
       "      <th>env1</th>\n",
       "      <th>prof</th>\n",
       "    </tr>\n",
       "  </thead>\n",
       "  <tbody>\n",
       "    <tr>\n",
       "      <th>0</th>\n",
       "      <td>201600000001</td>\n",
       "      <td>2016</td>\n",
       "      <td>2</td>\n",
       "      <td>1</td>\n",
       "      <td>14</td>\n",
       "      <td>2</td>\n",
       "      <td>1</td>\n",
       "      <td>590</td>\n",
       "      <td>1</td>\n",
       "      <td>8</td>\n",
       "      <td>3</td>\n",
       "      <td>1</td>\n",
       "      <td>2</td>\n",
       "      <td>11</td>\n",
       "      <td>1</td>\n",
       "      <td>1</td>\n",
       "      <td>3</td>\n",
       "      <td>0</td>\n",
       "      <td>1</td>\n",
       "    </tr>\n",
       "    <tr>\n",
       "      <th>1</th>\n",
       "      <td>201600000001</td>\n",
       "      <td>2016</td>\n",
       "      <td>2</td>\n",
       "      <td>1</td>\n",
       "      <td>14</td>\n",
       "      <td>2</td>\n",
       "      <td>1</td>\n",
       "      <td>590</td>\n",
       "      <td>1</td>\n",
       "      <td>8</td>\n",
       "      <td>3</td>\n",
       "      <td>1</td>\n",
       "      <td>1</td>\n",
       "      <td>21</td>\n",
       "      <td>3</td>\n",
       "      <td>1</td>\n",
       "      <td>3</td>\n",
       "      <td>0</td>\n",
       "      <td>1</td>\n",
       "    </tr>\n",
       "    <tr>\n",
       "      <th>2</th>\n",
       "      <td>201600000002</td>\n",
       "      <td>2016</td>\n",
       "      <td>3</td>\n",
       "      <td>16</td>\n",
       "      <td>18</td>\n",
       "      <td>2</td>\n",
       "      <td>1</td>\n",
       "      <td>590</td>\n",
       "      <td>6</td>\n",
       "      <td>1</td>\n",
       "      <td>3</td>\n",
       "      <td>1</td>\n",
       "      <td>1</td>\n",
       "      <td>11</td>\n",
       "      <td>3</td>\n",
       "      <td>1</td>\n",
       "      <td>2</td>\n",
       "      <td>0</td>\n",
       "      <td>1</td>\n",
       "    </tr>\n",
       "    <tr>\n",
       "      <th>3</th>\n",
       "      <td>201600000002</td>\n",
       "      <td>2016</td>\n",
       "      <td>3</td>\n",
       "      <td>16</td>\n",
       "      <td>18</td>\n",
       "      <td>2</td>\n",
       "      <td>1</td>\n",
       "      <td>590</td>\n",
       "      <td>6</td>\n",
       "      <td>1</td>\n",
       "      <td>3</td>\n",
       "      <td>2</td>\n",
       "      <td>1</td>\n",
       "      <td>11</td>\n",
       "      <td>3</td>\n",
       "      <td>1</td>\n",
       "      <td>2</td>\n",
       "      <td>0</td>\n",
       "      <td>1</td>\n",
       "    </tr>\n",
       "    <tr>\n",
       "      <th>4</th>\n",
       "      <td>201600000002</td>\n",
       "      <td>2016</td>\n",
       "      <td>3</td>\n",
       "      <td>16</td>\n",
       "      <td>18</td>\n",
       "      <td>2</td>\n",
       "      <td>1</td>\n",
       "      <td>590</td>\n",
       "      <td>6</td>\n",
       "      <td>1</td>\n",
       "      <td>3</td>\n",
       "      <td>2</td>\n",
       "      <td>2</td>\n",
       "      <td>11</td>\n",
       "      <td>3</td>\n",
       "      <td>1</td>\n",
       "      <td>2</td>\n",
       "      <td>0</td>\n",
       "      <td>1</td>\n",
       "    </tr>\n",
       "  </tbody>\n",
       "</table>\n",
       "</div>"
      ],
      "text/plain": [
       "        Num_Acc  year  month  day  hour  agg  lum  dep  int  atm  catr  catu  \\\n",
       "0  201600000001  2016      2    1    14    2    1  590    1    8     3     1   \n",
       "1  201600000001  2016      2    1    14    2    1  590    1    8     3     1   \n",
       "2  201600000002  2016      3   16    18    2    1  590    6    1     3     1   \n",
       "3  201600000002  2016      3   16    18    2    1  590    6    1     3     2   \n",
       "4  201600000002  2016      3   16    18    2    1  590    6    1     3     2   \n",
       "\n",
       "   sexe  secu  grav  situ  plan  env1  prof  \n",
       "0     2    11     1     1     3     0     1  \n",
       "1     1    21     3     1     3     0     1  \n",
       "2     1    11     3     1     2     0     1  \n",
       "3     1    11     3     1     2     0     1  \n",
       "4     2    11     3     1     2     0     1  "
      ]
     },
     "execution_count": 92,
     "metadata": {},
     "output_type": "execute_result"
    }
   ],
   "source": [
    "# Converting float to int \n",
    "for  col  in  dfglobal . columns : \n",
    "    dfglobal [ col ]  =  dfglobal [ col ] . apply ( lambda  x :  int ( x )  )\n",
    "\n",
    "dfglobal . head ()"
   ]
  },
  {
   "cell_type": "code",
   "execution_count": 93,
   "metadata": {},
   "outputs": [],
   "source": [
    "X  =  dfglobal . drop ([ 'grav' ],  axis = 1 ) \n",
    "y  =  dfglobal [ 'grav' ]\n",
    "\n",
    "# Splitting the dataset into trainning and testing data with a ratio of 75/25 \n",
    "X_train ,  X_test ,  y_train ,  y_test  =  train_test_split ( X ,  y ,  test_size = 0.25 ,  random_state = 42 )"
   ]
  },
  {
   "cell_type": "markdown",
   "metadata": {},
   "source": [
    "### Random Forest Classifier "
   ]
  },
  {
   "cell_type": "code",
   "execution_count": 94,
   "metadata": {},
   "outputs": [
    {
     "name": "stdout",
     "output_type": "stream",
     "text": [
      "Score of the random forest classifier:  0.604 \n"
     ]
    }
   ],
   "source": [
    "rfc = RandomForestClassifier ( max_depth =  10 ,  n_estimators = 5 ,   random_state = 0 ) \n",
    "rfc . fit ( X_train , y_train )\n",
    "\n",
    "# Prediction \n",
    "pred_rfc = rfc . predict ( X_test )\n",
    "\n",
    "score_rfc  =  rfc . score ( X_test ,  y_test ) \n",
    "print ( \"Score of the random forest classifier: % .3f \"  %  score_rfc )"
   ]
  },
  {
   "cell_type": "code",
   "execution_count": 95,
   "metadata": {},
   "outputs": [
    {
     "name": "stdout",
     "output_type": "stream",
     "text": [
      "              precision    recall  f1-score   support\n",
      "\n",
      "           1       0.63      0.84      0.72    190514\n",
      "           2       0.43      0.00      0.00     11800\n",
      "           3       0.52      0.29      0.37     93659\n",
      "           4       0.58      0.55      0.57    161264\n",
      "\n",
      "    accuracy                           0.60    457237\n",
      "   macro avg       0.54      0.42      0.42    457237\n",
      "weighted avg       0.59      0.60      0.58    457237\n",
      "\n"
     ]
    }
   ],
   "source": [
    "print ( classification_report ( y_test ,  pred_rfc ))"
   ]
  },
  {
   "cell_type": "markdown",
   "metadata": {},
   "source": [
    "### Logistic Regression"
   ]
  },
  {
   "cell_type": "code",
   "execution_count": 96,
   "metadata": {},
   "outputs": [
    {
     "name": "stdout",
     "output_type": "stream",
     "text": [
      "Score of the logistic regression:  0.417 \n"
     ]
    }
   ],
   "source": [
    "# All parameters not specified are set to their defaults \n",
    "lr  =  LogisticRegression () \n",
    "lr . fit ( X_train ,  y_train )\n",
    "\n",
    "# Prediction \n",
    "pred_lr = lr . predict ( X_test )\n",
    "\n",
    "# Use score method to get accuracy of model \n",
    "score_lr  =  lr . score ( X_test ,  y_test ) \n",
    "print ( \"Score of the logistic regression: % .3f \"  %  score_lr )"
   ]
  },
  {
   "cell_type": "code",
   "execution_count": 97,
   "metadata": {},
   "outputs": [
    {
     "name": "stdout",
     "output_type": "stream",
     "text": [
      "              precision    recall  f1-score   support\n",
      "\n",
      "           1       0.42      1.00      0.59    190514\n",
      "           2       0.00      0.00      0.00     11800\n",
      "           3       0.00      0.00      0.00     93659\n",
      "           4       0.00      0.00      0.00    161264\n",
      "\n",
      "    accuracy                           0.42    457237\n",
      "   macro avg       0.10      0.25      0.15    457237\n",
      "weighted avg       0.17      0.42      0.25    457237\n",
      "\n"
     ]
    }
   ],
   "source": [
    "print ( classification_report ( y_test ,  pred_lr ))"
   ]
  },
  {
   "cell_type": "markdown",
   "metadata": {},
   "source": [
    "### Decision Tree"
   ]
  },
  {
   "cell_type": "code",
   "execution_count": 98,
   "metadata": {},
   "outputs": [
    {
     "name": "stdout",
     "output_type": "stream",
     "text": [
      "Score of the decision tree:  0.595 \n"
     ]
    }
   ],
   "source": [
    "dt = DecisionTreeClassifier ( min_samples_split = 5 , min_samples_leaf = 15 , max_leaf_nodes = 30 ) \n",
    "dt . fit ( X_train , y_train )\n",
    "\n",
    "# Prediction \n",
    "pred_dt = dt . predict ( X_test )\n",
    "\n",
    "score_dt  =  dt . score ( X_test ,  y_test ) \n",
    "print ( \"Score of the decision tree: % .3f \"  %  score_dt )"
   ]
  },
  {
   "cell_type": "code",
   "execution_count": 99,
   "metadata": {},
   "outputs": [
    {
     "name": "stdout",
     "output_type": "stream",
     "text": [
      "              precision    recall  f1-score   support\n",
      "\n",
      "           1       0.63      0.82      0.71    190514\n",
      "           2       0.00      0.00      0.00     11800\n",
      "           3       0.51      0.28      0.36     93659\n",
      "           4       0.57      0.55      0.56    161264\n",
      "\n",
      "    accuracy                           0.60    457237\n",
      "   macro avg       0.43      0.41      0.41    457237\n",
      "weighted avg       0.57      0.60      0.57    457237\n",
      "\n"
     ]
    }
   ],
   "source": [
    "print ( classification_report ( y_test ,  pred_dt ))"
   ]
  },
  {
   "cell_type": "markdown",
   "metadata": {},
   "source": [
    "### Gradient Boosting Classifier "
   ]
  },
  {
   "cell_type": "code",
   "execution_count": 124,
   "metadata": {},
   "outputs": [
    {
     "name": "stdout",
     "output_type": "stream",
     "text": [
      "Score of the gradient boosting classifier:  0.970 \n"
     ]
    }
   ],
   "source": [
    "gbc  =  GradientBoostingClassifier ( n_estimators = 100 ,  learning_rate = 0.2 , max_depth = 10 ,  random_state = 0 )\n",
    "\n",
    "gbc . fit ( X_train ,  y_train )\n",
    "\n",
    "# Prediction \n",
    "pred_gbc = gbc . predict ( X_test )\n",
    "\n",
    "score_gbc  =  gbc . score ( X_test ,  y_test ) \n",
    "print ( \"Score of the gradient boosting classifier: % .3f \"  %  score_gbc )"
   ]
  },
  {
   "cell_type": "code",
   "execution_count": 125,
   "metadata": {},
   "outputs": [
    {
     "name": "stdout",
     "output_type": "stream",
     "text": [
      "              precision    recall  f1-score   support\n",
      "\n",
      "           0       0.97      1.00      0.98    456294\n",
      "           1       0.26      0.06      0.09     12708\n",
      "\n",
      "    accuracy                           0.97    469002\n",
      "   macro avg       0.62      0.53      0.54    469002\n",
      "weighted avg       0.95      0.97      0.96    469002\n",
      "\n"
     ]
    }
   ],
   "source": [
    "print ( classification_report ( y_test ,  pred_gbc ))"
   ]
  },
  {
   "cell_type": "markdown",
   "metadata": {},
   "source": [
    "### SVM"
   ]
  },
  {
   "cell_type": "code",
   "execution_count": 102,
   "metadata": {},
   "outputs": [
    {
     "name": "stdout",
     "output_type": "stream",
     "text": [
      "Score of the decision tree:  0.417 \n"
     ]
    }
   ],
   "source": [
    "svc = LinearSVC()\n",
    "svc.fit(X_train, y_train)\n",
    "\n",
    "# Prediction \n",
    "pred_svm = svc. predict ( X_test )\n",
    "\n",
    "score_dt  =  svc. score ( X_test ,  y_test ) \n",
    "print ( \"Score of the decision tree: % .3f \"  %  score_dt )"
   ]
  },
  {
   "cell_type": "code",
   "execution_count": 103,
   "metadata": {},
   "outputs": [
    {
     "name": "stdout",
     "output_type": "stream",
     "text": [
      "              precision    recall  f1-score   support\n",
      "\n",
      "           1       0.42      1.00      0.59    190514\n",
      "           2       0.00      0.00      0.00     11800\n",
      "           3       0.00      0.00      0.00     93659\n",
      "           4       0.00      0.00      0.00    161264\n",
      "\n",
      "    accuracy                           0.42    457237\n",
      "   macro avg       0.10      0.25      0.15    457237\n",
      "weighted avg       0.17      0.42      0.25    457237\n",
      "\n"
     ]
    }
   ],
   "source": [
    "print ( classification_report ( y_test ,  pred_svm ))"
   ]
  },
  {
   "cell_type": "markdown",
   "metadata": {},
   "source": [
    "### Naive Bayes"
   ]
  },
  {
   "cell_type": "code",
   "execution_count": 99,
   "metadata": {},
   "outputs": [
    {
     "name": "stdout",
     "output_type": "stream",
     "text": [
      "Accuracy: 0.4166635683463937\n"
     ]
    }
   ],
   "source": [
    "#Import Gaussian Naive Bayes model\n",
    "from sklearn.naive_bayes import GaussianNB\n",
    "\n",
    "#Create a Gaussian Classifier\n",
    "gnb = GaussianNB()\n",
    "\n",
    "#Train the model using the training sets\n",
    "gnb.fit(X_train, y_train)\n",
    "\n",
    "#Predict the response for test dataset\n",
    "y_pred = gnb.predict(X_test)\n",
    "score_nb  =  gnb. score ( X_test ,  y_test )\n",
    "\n",
    "#Import scikit-learn metrics module for accuracy calculation\n",
    "from sklearn import metrics\n",
    "\n",
    "# Model Accuracy, how often is the classifier correct?\n",
    "print(\"Accuracy:\",metrics.accuracy_score(y_test, y_pred))\n"
   ]
  },
  {
   "cell_type": "code",
   "execution_count": 100,
   "metadata": {},
   "outputs": [
    {
     "name": "stdout",
     "output_type": "stream",
     "text": [
      "              precision    recall  f1-score   support\n",
      "\n",
      "           1       0.42      1.00      0.59    190514\n",
      "           2       0.00      0.00      0.00     11800\n",
      "           3       0.00      0.00      0.00     93659\n",
      "           4       0.00      0.00      0.00    161264\n",
      "\n",
      "    accuracy                           0.42    457237\n",
      "   macro avg       0.10      0.25      0.15    457237\n",
      "weighted avg       0.17      0.42      0.25    457237\n",
      "\n"
     ]
    }
   ],
   "source": [
    "print ( classification_report ( y_test ,  y_pred ))"
   ]
  },
  {
   "cell_type": "code",
   "execution_count": 126,
   "metadata": {},
   "outputs": [
    {
     "data": {
      "image/png": "[encoded data removed]",
      "text/plain": [
       "<Figure size 432x288 with 1 Axes>"
      ]
     },
     "metadata": {
      "needs_background": "light"
     },
     "output_type": "display_data"
    }
   ],
   "source": [
    "import matplotlib.pyplot as plt\n",
    "fig = plt.figure()\n",
    "ax = fig.add_axes([0,10,1,1])\n",
    "models = ['Naive Bayes', 'Logistic \\nregression', 'Random \\nForest', 'Gradient \\nBoosting', 'SVM']\n",
    "Accuracy = [42,42,60,97,42]\n",
    "ax.bar(models,Accuracy)\n",
    "plt.show()"
   ]
  },
  {
   "cell_type": "markdown",
   "metadata": {},
   "source": [
    "### 2. Predicting output with a unique value"
   ]
  },
  {
   "cell_type": "markdown",
   "metadata": {},
   "source": [
    "#### Predicting those killed in the crash"
   ]
  },
  {
   "cell_type": "code",
   "execution_count": 120,
   "metadata": {},
   "outputs": [],
   "source": [
    "dfglobal1 =  df [[ 'Num_Acc' , 'year' , 'month' , 'day' , 'hour' , 'agg' , 'lum' , 'dep' , 'int' ,  'atm' , 'catr'  , \n",
    "                     'catu' , 'sexe' , 'secu' , 'grav_2' , 'situ' , \n",
    "                   'plan' , 'env1']]"
   ]
  },
  {
   "cell_type": "code",
   "execution_count": 121,
   "metadata": {},
   "outputs": [
    {
     "data": {
      "text/html": [
       "<div>\n",
       "<style scoped>\n",
       "    .dataframe tbody tr th:only-of-type {\n",
       "        vertical-align: middle;\n",
       "    }\n",
       "\n",
       "    .dataframe tbody tr th {\n",
       "        vertical-align: top;\n",
       "    }\n",
       "\n",
       "    .dataframe thead th {\n",
       "        text-align: right;\n",
       "    }\n",
       "</style>\n",
       "<table border=\"1\" class=\"dataframe\">\n",
       "  <thead>\n",
       "    <tr style=\"text-align: right;\">\n",
       "      <th></th>\n",
       "      <th>Num_Acc</th>\n",
       "      <th>year</th>\n",
       "      <th>month</th>\n",
       "      <th>day</th>\n",
       "      <th>hour</th>\n",
       "      <th>agg</th>\n",
       "      <th>lum</th>\n",
       "      <th>dep</th>\n",
       "      <th>int</th>\n",
       "      <th>atm</th>\n",
       "      <th>catr</th>\n",
       "      <th>catu</th>\n",
       "      <th>sexe</th>\n",
       "      <th>secu</th>\n",
       "      <th>grav_2</th>\n",
       "      <th>situ</th>\n",
       "      <th>plan</th>\n",
       "      <th>env1</th>\n",
       "    </tr>\n",
       "  </thead>\n",
       "  <tbody>\n",
       "    <tr>\n",
       "      <th>0</th>\n",
       "      <td>-263462911</td>\n",
       "      <td>2016</td>\n",
       "      <td>2</td>\n",
       "      <td>1</td>\n",
       "      <td>14</td>\n",
       "      <td>2</td>\n",
       "      <td>1</td>\n",
       "      <td>590</td>\n",
       "      <td>1</td>\n",
       "      <td>8</td>\n",
       "      <td>3</td>\n",
       "      <td>1</td>\n",
       "      <td>2</td>\n",
       "      <td>11</td>\n",
       "      <td>0</td>\n",
       "      <td>1</td>\n",
       "      <td>3</td>\n",
       "      <td>0</td>\n",
       "    </tr>\n",
       "    <tr>\n",
       "      <th>1</th>\n",
       "      <td>-263462911</td>\n",
       "      <td>2016</td>\n",
       "      <td>2</td>\n",
       "      <td>1</td>\n",
       "      <td>14</td>\n",
       "      <td>2</td>\n",
       "      <td>1</td>\n",
       "      <td>590</td>\n",
       "      <td>1</td>\n",
       "      <td>8</td>\n",
       "      <td>3</td>\n",
       "      <td>1</td>\n",
       "      <td>1</td>\n",
       "      <td>21</td>\n",
       "      <td>0</td>\n",
       "      <td>1</td>\n",
       "      <td>3</td>\n",
       "      <td>0</td>\n",
       "    </tr>\n",
       "    <tr>\n",
       "      <th>2</th>\n",
       "      <td>-263462910</td>\n",
       "      <td>2016</td>\n",
       "      <td>3</td>\n",
       "      <td>16</td>\n",
       "      <td>18</td>\n",
       "      <td>2</td>\n",
       "      <td>1</td>\n",
       "      <td>590</td>\n",
       "      <td>6</td>\n",
       "      <td>1</td>\n",
       "      <td>3</td>\n",
       "      <td>1</td>\n",
       "      <td>1</td>\n",
       "      <td>11</td>\n",
       "      <td>0</td>\n",
       "      <td>1</td>\n",
       "      <td>2</td>\n",
       "      <td>0</td>\n",
       "    </tr>\n",
       "    <tr>\n",
       "      <th>3</th>\n",
       "      <td>-263462910</td>\n",
       "      <td>2016</td>\n",
       "      <td>3</td>\n",
       "      <td>16</td>\n",
       "      <td>18</td>\n",
       "      <td>2</td>\n",
       "      <td>1</td>\n",
       "      <td>590</td>\n",
       "      <td>6</td>\n",
       "      <td>1</td>\n",
       "      <td>3</td>\n",
       "      <td>2</td>\n",
       "      <td>1</td>\n",
       "      <td>11</td>\n",
       "      <td>0</td>\n",
       "      <td>1</td>\n",
       "      <td>2</td>\n",
       "      <td>0</td>\n",
       "    </tr>\n",
       "    <tr>\n",
       "      <th>4</th>\n",
       "      <td>-263462910</td>\n",
       "      <td>2016</td>\n",
       "      <td>3</td>\n",
       "      <td>16</td>\n",
       "      <td>18</td>\n",
       "      <td>2</td>\n",
       "      <td>1</td>\n",
       "      <td>590</td>\n",
       "      <td>6</td>\n",
       "      <td>1</td>\n",
       "      <td>3</td>\n",
       "      <td>2</td>\n",
       "      <td>2</td>\n",
       "      <td>11</td>\n",
       "      <td>0</td>\n",
       "      <td>1</td>\n",
       "      <td>2</td>\n",
       "      <td>0</td>\n",
       "    </tr>\n",
       "  </tbody>\n",
       "</table>\n",
       "</div>"
      ],
      "text/plain": [
       "     Num_Acc  year  month  day  hour  agg  lum  dep  int  atm  catr  catu  \\\n",
       "0 -263462911  2016      2    1    14    2    1  590    1    8     3     1   \n",
       "1 -263462911  2016      2    1    14    2    1  590    1    8     3     1   \n",
       "2 -263462910  2016      3   16    18    2    1  590    6    1     3     1   \n",
       "3 -263462910  2016      3   16    18    2    1  590    6    1     3     2   \n",
       "4 -263462910  2016      3   16    18    2    1  590    6    1     3     2   \n",
       "\n",
       "   sexe  secu  grav_2  situ  plan  env1  \n",
       "0     2    11       0     1     3     0  \n",
       "1     1    21       0     1     3     0  \n",
       "2     1    11       0     1     2     0  \n",
       "3     1    11       0     1     2     0  \n",
       "4     2    11       0     1     2     0  "
      ]
     },
     "execution_count": 121,
     "metadata": {},
     "output_type": "execute_result"
    }
   ],
   "source": [
    "# Converting float into int \n",
    "dfglobal1  =  dfglobal1 . fillna ( 0 ) \n",
    "for  col  in  dfglobal1 . columns : \n",
    "    dfglobal1 [ col ]  =  dfglobal1 [ col ] . astype ( int )\n",
    "\n",
    "dfglobal1 . head ()\n"
   ]
  },
  {
   "cell_type": "code",
   "execution_count": 122,
   "metadata": {},
   "outputs": [],
   "source": [
    "X  =  dfglobal1 . drop ([ 'grav_2' ],  axis = 1 ) \n",
    "y  =  dfglobal1 [ 'grav_2' ]\n",
    "\n",
    "# Splitting the dataset into trainning and testing data with a ratio of 75/25 \n",
    "X_train ,  X_test ,  y_train ,  y_test  =  train_test_split ( X ,  y ,  test_size = 0.25 ,  random_state = 42 )"
   ]
  },
  {
   "cell_type": "markdown",
   "metadata": {},
   "source": [
    "### Logistic regression "
   ]
  },
  {
   "cell_type": "code",
   "execution_count": 105,
   "metadata": {},
   "outputs": [
    {
     "name": "stdout",
     "output_type": "stream",
     "text": [
      "Score of the logistic regression:  0.973 \n"
     ]
    }
   ],
   "source": [
    "# all parameters not specified are set to their defaults \n",
    "lr  =  LogisticRegression () \n",
    "lr . fit ( X_train ,  y_train ) \n",
    "pred = lr . predict ( X_test ) \n",
    "pred\n",
    "\n",
    "# Use score method to get accuracy of model \n",
    "score_lr  =  lr . score ( X_test ,  y_test ) \n",
    "print ( \"Score of the logistic regression: % .3f \"  %  score_lr )"
   ]
  },
  {
   "cell_type": "code",
   "execution_count": 106,
   "metadata": {},
   "outputs": [
    {
     "name": "stdout",
     "output_type": "stream",
     "text": [
      "[0.01917731 0.00199882 0.01224198 ... 0.04638218 0.019173   0.00199854]\n"
     ]
    }
   ],
   "source": [
    "lr_predict  =  lr . predict ( X_test ) \n",
    "lr_predict_proba = lr . predict_proba ( X_test )\n",
    "\n",
    "print ( lr_predict_proba [:, 1 ])"
   ]
  },
  {
   "cell_type": "code",
   "execution_count": 107,
   "metadata": {},
   "outputs": [
    {
     "name": "stdout",
     "output_type": "stream",
     "text": [
      "[[456294      0]\n",
      " [ 12708      0]]\n"
     ]
    }
   ],
   "source": [
    "lr_confusion_matrix  =  confusion_matrix ( y_test ,  pred )\n",
    "\n",
    "print ( lr_confusion_matrix )"
   ]
  },
  {
   "cell_type": "code",
   "execution_count": 108,
   "metadata": {},
   "outputs": [
    {
     "name": "stdout",
     "output_type": "stream",
     "text": [
      "              precision    recall  f1-score   support\n",
      "\n",
      "           0       0.97      1.00      0.99    456294\n",
      "           1       0.00      0.00      0.00     12708\n",
      "\n",
      "    accuracy                           0.97    469002\n",
      "   macro avg       0.49      0.50      0.49    469002\n",
      "weighted avg       0.95      0.97      0.96    469002\n",
      "\n"
     ]
    }
   ],
   "source": [
    "print ( classification_report ( y_test ,  lr_predict ))"
   ]
  },
  {
   "cell_type": "code",
   "execution_count": 109,
   "metadata": {},
   "outputs": [],
   "source": [
    "# Receiver Operating Characteristics for the logistic regression \n",
    "from  sklearn.metrics  import  auc \n",
    "from  sklearn.metrics  import  roc_curve\n",
    "\n",
    "fpr_lr ,  tpr_lr ,  thresholds_fr  =  roc_curve ( y_test ,  lr_predict_proba [:, 1 ]) \n",
    "lr_auc  =  auc ( fpr_lr ,  tpr_lr )"
   ]
  },
  {
   "cell_type": "markdown",
   "metadata": {},
   "source": [
    "### Random Forest "
   ]
  },
  {
   "cell_type": "code",
   "execution_count": 112,
   "metadata": {},
   "outputs": [
    {
     "name": "stdout",
     "output_type": "stream",
     "text": [
      "Score of the random forest classifier:  0.973 \n"
     ]
    }
   ],
   "source": [
    "rf  =  RandomForestClassifier ( max_depth = 3 ,  n_estimators = 10 ) \n",
    "rf . fit ( X_train ,  y_train )\n",
    "\n",
    "# Use score method to get accuracy of model \n",
    "score_rf  =  rf . score ( X_test ,  y_test ) \n",
    "print ( \"Score of the random forest classifier: % .3f \"  %  score_rf )\n",
    "\n",
    "rf_predict  =  rf . predict ( X_test ) \n",
    "rf_predict_proba = rf . predict_proba ( X_test )"
   ]
  },
  {
   "cell_type": "code",
   "execution_count": 113,
   "metadata": {},
   "outputs": [
    {
     "name": "stdout",
     "output_type": "stream",
     "text": [
      "              precision    recall  f1-score   support\n",
      "\n",
      "           0       0.97      1.00      0.99    456294\n",
      "           1       0.00      0.00      0.00     12708\n",
      "\n",
      "    accuracy                           0.97    469002\n",
      "   macro avg       0.49      0.50      0.49    469002\n",
      "weighted avg       0.95      0.97      0.96    469002\n",
      "\n"
     ]
    }
   ],
   "source": [
    "print ( classification_report ( y_test ,  rf_predict ))"
   ]
  },
  {
   "cell_type": "code",
   "execution_count": 114,
   "metadata": {},
   "outputs": [],
   "source": [
    "# Receiver Operating Characteristics for random forest \n",
    "fpr_rf ,  tpr_rf ,  thresholds_rf  =  roc_curve ( y_test ,  rf_predict_proba [:, 1 ]) \n",
    "rf_auc  =  auc ( fpr_rf ,  tpr_rf )"
   ]
  },
  {
   "cell_type": "markdown",
   "metadata": {},
   "source": [
    "### Gradient Boosting "
   ]
  },
  {
   "cell_type": "code",
   "execution_count": 115,
   "metadata": {},
   "outputs": [
    {
     "name": "stdout",
     "output_type": "stream",
     "text": [
      "Score of the gradient boosting classifier:  0.973 \n"
     ]
    }
   ],
   "source": [
    "gbc  =  GradientBoostingClassifier ( n_estimators = 100 ,  learning_rate = 1.0 , max_depth = 1 ,  random_state = 0 ) \n",
    "gbc . fit ( X_train ,  y_train )\n",
    "\n",
    "# Use score method to get accuracy of model \n",
    "score_gbc = gbc . score ( X_test ,  y_test ) \n",
    "print ( \"Score of the gradient boosting classifier: % .3f \"  %  score_gbc )\n",
    "\n",
    "gbc_predict  =  gbc . predict ( X_test ) \n",
    "gbc_predict_proba = gbc . predict_proba ( X_test )"
   ]
  },
  {
   "cell_type": "markdown",
   "metadata": {},
   "source": [
    "### SVM"
   ]
  },
  {
   "cell_type": "code",
   "execution_count": 152,
   "metadata": {},
   "outputs": [
    {
     "name": "stdout",
     "output_type": "stream",
     "text": [
      "Score of the random forest classifier:  0.790 \n"
     ]
    }
   ],
   "source": [
    "svm  =  LinearSVC() \n",
    "svm . fit ( X_train ,  y_train )\n",
    "\n",
    "# Use score method to get accuracy of model \n",
    "score_svm  =  svm . score ( X_test ,  y_test ) \n",
    "print ( \"Score of the random forest classifier: % .3f \"  %  score_rf )\n",
    "\n",
    "svm_predict  =  svm . predict ( X_test ) "
   ]
  },
  {
   "cell_type": "code",
   "execution_count": 153,
   "metadata": {},
   "outputs": [
    {
     "name": "stdout",
     "output_type": "stream",
     "text": [
      "              precision    recall  f1-score   support\n",
      "\n",
      "           0       0.79      1.00      0.88    370488\n",
      "           1       0.00      0.00      0.00     98514\n",
      "\n",
      "    accuracy                           0.79    469002\n",
      "   macro avg       0.39      0.50      0.44    469002\n",
      "weighted avg       0.62      0.79      0.70    469002\n",
      "\n"
     ]
    }
   ],
   "source": [
    "print ( classification_report ( y_test ,  svm_predict ))"
   ]
  },
  {
   "cell_type": "markdown",
   "metadata": {},
   "source": [
    "### Naive Bayes"
   ]
  },
  {
   "cell_type": "code",
   "execution_count": 123,
   "metadata": {},
   "outputs": [
    {
     "name": "stdout",
     "output_type": "stream",
     "text": [
      "Accuracy: 0.9729041667199714\n"
     ]
    }
   ],
   "source": [
    "### Naiva Bayes\n",
    "#Import Gaussian Naive Bayes model\n",
    "from sklearn.naive_bayes import GaussianNB\n",
    "\n",
    "#Create a Gaussian Classifier\n",
    "gnb = GaussianNB()\n",
    "\n",
    "#Train the model using the training sets\n",
    "gnb.fit(X_train, y_train)\n",
    "\n",
    "#Predict the response for test dataset\n",
    "y_pred = gnb.predict(X_test)\n",
    "score_nb  =  gnb. score ( X_test ,  y_test )\n",
    "\n",
    "#Import scikit-learn metrics module for accuracy calculation\n",
    "from sklearn import metrics\n",
    "\n",
    "# Model Accuracy, how often is the classifier correct?\n",
    "print(\"Accuracy:\",metrics.accuracy_score(y_test, y_pred))\n"
   ]
  },
  {
   "cell_type": "code",
   "execution_count": 124,
   "metadata": {},
   "outputs": [
    {
     "name": "stdout",
     "output_type": "stream",
     "text": [
      "              precision    recall  f1-score   support\n",
      "\n",
      "           0       0.97      1.00      0.99    456294\n",
      "           1       0.00      0.00      0.00     12708\n",
      "\n",
      "    accuracy                           0.97    469002\n",
      "   macro avg       0.49      0.50      0.49    469002\n",
      "weighted avg       0.95      0.97      0.96    469002\n",
      "\n"
     ]
    }
   ],
   "source": [
    "print ( classification_report ( y_test ,  y_pred ))"
   ]
  },
  {
   "cell_type": "code",
   "execution_count": 154,
   "metadata": {},
   "outputs": [
    {
     "name": "stdout",
     "output_type": "stream",
     "text": [
      "              precision    recall  f1-score   support\n",
      "\n",
      "           0       0.82      0.96      0.88    370488\n",
      "           1       0.57      0.19      0.28     98514\n",
      "\n",
      "    accuracy                           0.80    469002\n",
      "   macro avg       0.69      0.57      0.58    469002\n",
      "weighted avg       0.76      0.80      0.76    469002\n",
      "\n"
     ]
    }
   ],
   "source": [
    "from  sklearn.metrics  import  classification_report\n",
    "\n",
    "print ( classification_report ( y_test ,  gbc_predict ))"
   ]
  },
  {
   "cell_type": "code",
   "execution_count": 155,
   "metadata": {},
   "outputs": [],
   "source": [
    "# Receiver Operating Characteristics for Gradient Boosting Classifier \n",
    "from  sklearn.metrics  import  auc \n",
    "from  sklearn.metrics  import  roc_curve\n",
    "\n",
    "fpr_gbc ,  tpr_gbc ,  thresholds_gbc  =  roc_curve ( y_test ,  gbc_predict_proba [:, 1 ]) \n",
    "gbc_auc  =  auc ( fpr_gbc ,  tpr_gbc )"
   ]
  },
  {
   "cell_type": "code",
   "execution_count": 157,
   "metadata": {},
   "outputs": [
    {
     "data": {
      "image/png": "[encoded data removed]",
      "text/plain": [
       "<Figure size 720x648 with 1 Axes>"
      ]
     },
     "metadata": {
      "needs_background": "light"
     },
     "output_type": "display_data"
    }
   ],
   "source": [
    "# Display the ROC curce\n",
    "\n",
    "fig  =  plt . figure ( figsize = ( 10 , 9 ))\n",
    "\n",
    "plt . plot ( fpr_rf ,  tpr_rf ,  label = 'Random Forest AUC = % 0.2f '  % rf_auc )\n",
    "plt . plot ( fpr_gbc ,  tpr_gbc ,  label = 'Gradient Boosting Classifier AUC = % 0.2f '  % gbc_auc )\n",
    "\n",
    "plt . plot ([ 0 , 1 ], [ 0 , 1 ],  linestyle = '-' ) \n",
    "plt . xlabel ( 'False positive rate' ) \n",
    "plt . ylabel ( 'True positive rate' ) \n",
    "plt . title ( 'ROC curve' ) \n",
    "plt . legend ( loc = 'best' ) \n",
    "plt . show ()\n",
    "\n",
    "fig . savefig ( r\"C:\\Users\\manas\\OneDrive\\Documents\\STEVENS\\sem 2\\KDD\\final project\\results\\ ROC_grav_2.png\" )"
   ]
  },
  {
   "cell_type": "code",
   "execution_count": 127,
   "metadata": {},
   "outputs": [
    {
     "data": {
      "image/png": "[encoded data removed]",
      "text/plain": [
       "<Figure size 432x288 with 1 Axes>"
      ]
     },
     "metadata": {
      "needs_background": "light"
     },
     "output_type": "display_data"
    }
   ],
   "source": [
    "import matplotlib.pyplot as plt\n",
    "fig = plt.figure()\n",
    "ax = fig.add_axes([0,10,1,1])\n",
    "models = ['Naive Bayes', 'Logistic \\nregression', 'Random \\nForest', 'Gradient \\nBoosting', 'SVM']\n",
    "Accuracy = [97,97,97,97,79]\n",
    "ax.bar(models,Accuracy)\n",
    "plt.show()"
   ]
  },
  {
   "cell_type": "markdown",
   "metadata": {},
   "source": [
    "### Predicting those hospitalized injured "
   ]
  },
  {
   "cell_type": "code",
   "execution_count": 110,
   "metadata": {},
   "outputs": [],
   "source": [
    "dfglobal2 =  df [[ 'Num_Acc' , 'year' , 'month' , 'day' , 'hour' , 'agg' , 'lum' , 'dep' , 'int' ,  'atm' , 'catr' ,  \n",
    "                     'catu' , 'sexe' , 'secu' , 'grav_3' , 'situ' , \n",
    "                   'plan' , 'env1' ]]"
   ]
  },
  {
   "cell_type": "code",
   "execution_count": 111,
   "metadata": {},
   "outputs": [],
   "source": [
    "# Converting float into int \n",
    "dfglobal2  =  dfglobal2 . fillna ( 0 ) \n",
    "for  col  in  dfglobal2 . columns : \n",
    "    dfglobal2 [ col ]  =  dfglobal2 [ col ] . astype ( int )"
   ]
  },
  {
   "cell_type": "code",
   "execution_count": 112,
   "metadata": {},
   "outputs": [],
   "source": [
    "X  =  dfglobal2 . drop ([ 'grav_3' ],  axis = 1 ) \n",
    "y  =  dfglobal2 [ 'grav_3' ]\n",
    "\n",
    "# Splitting the dataset into trainning and testing data with a ratio of 75/25 \n",
    "X_train ,  X_test ,  y_train ,  y_test  =  train_test_split ( X ,  y ,  test_size = 0.25 ,  random_state = 42 )"
   ]
  },
  {
   "cell_type": "markdown",
   "metadata": {},
   "source": [
    "### Logistic regression "
   ]
  },
  {
   "cell_type": "code",
   "execution_count": 113,
   "metadata": {},
   "outputs": [
    {
     "name": "stdout",
     "output_type": "stream",
     "text": [
      "Score of the logistic regression:  0.790 \n",
      "[0.23503299 0.13429594 0.21134389 ... 0.28765928 0.23502064 0.13429094]\n"
     ]
    }
   ],
   "source": [
    "# all parameters not specified are set to their defaults \n",
    "lr  =  LogisticRegression () \n",
    "lr . fit ( X_train ,  y_train ) \n",
    "pred = lr . predict ( X_test ) \n",
    "pred\n",
    "\n",
    "# Use score method to get accuracy of model \n",
    "score_lr  =  lr . score ( X_test ,  y_test ) \n",
    "print ( \"Score of the logistic regression: % .3f \"  %  score_lr )\n",
    "\n",
    "lr_predict  =  lr . predict ( X_test ) \n",
    "lr_predict_proba = lr . predict_proba ( X_test )\n",
    "\n",
    "print ( lr_predict_proba [:, 1 ])"
   ]
  },
  {
   "cell_type": "code",
   "execution_count": 114,
   "metadata": {},
   "outputs": [
    {
     "name": "stdout",
     "output_type": "stream",
     "text": [
      "[[370488      0]\n",
      " [ 98514      0]]\n"
     ]
    }
   ],
   "source": [
    "lr_confusion_matrix  =  confusion_matrix ( y_test ,  pred )\n",
    "\n",
    "print ( lr_confusion_matrix )"
   ]
  },
  {
   "cell_type": "code",
   "execution_count": 115,
   "metadata": {},
   "outputs": [
    {
     "name": "stdout",
     "output_type": "stream",
     "text": [
      "              precision    recall  f1-score   support\n",
      "\n",
      "           0       0.79      1.00      0.88    370488\n",
      "           1       0.00      0.00      0.00     98514\n",
      "\n",
      "    accuracy                           0.79    469002\n",
      "   macro avg       0.39      0.50      0.44    469002\n",
      "weighted avg       0.62      0.79      0.70    469002\n",
      "\n"
     ]
    }
   ],
   "source": [
    "print ( classification_report ( y_test ,  lr_predict ))"
   ]
  },
  {
   "cell_type": "code",
   "execution_count": 116,
   "metadata": {},
   "outputs": [],
   "source": [
    "# Receiver Operating Characteristics for the logistic regression \n",
    "fpr_lr ,  tpr_lr ,  thresholds_fr  =  roc_curve ( y_test ,  lr_predict_proba [:, 1 ]) \n",
    "lr_auc  =  auc ( fpr_lr ,  tpr_lr )"
   ]
  },
  {
   "cell_type": "markdown",
   "metadata": {},
   "source": [
    "### Random forest"
   ]
  },
  {
   "cell_type": "code",
   "execution_count": 169,
   "metadata": {},
   "outputs": [
    {
     "name": "stdout",
     "output_type": "stream",
     "text": [
      "Score of the random forest classifier:  0.790 \n"
     ]
    }
   ],
   "source": [
    "rf  =  RandomForestClassifier ( max_depth = 3 ,  n_estimators = 10 ) \n",
    "rf . fit ( X_train ,  y_train )\n",
    "\n",
    "# Use score method to get accuracy of model \n",
    "score_rf  =  rf . score ( X_test ,  y_test ) \n",
    "print ( \"Score of the random forest classifier: % .3f \"  %  score_rf )\n",
    "\n",
    "rf_predict  =  rf . predict ( X_test ) \n",
    "rf_predict_proba = rf . predict_proba ( X_test )"
   ]
  },
  {
   "cell_type": "code",
   "execution_count": 170,
   "metadata": {},
   "outputs": [
    {
     "name": "stdout",
     "output_type": "stream",
     "text": [
      "              precision    recall  f1-score   support\n",
      "\n",
      "           0       0.79      1.00      0.88    370488\n",
      "           1       0.00      0.00      0.00     98514\n",
      "\n",
      "    accuracy                           0.79    469002\n",
      "   macro avg       0.39      0.50      0.44    469002\n",
      "weighted avg       0.62      0.79      0.70    469002\n",
      "\n"
     ]
    }
   ],
   "source": [
    "print ( classification_report ( y_test ,  rf_predict ))"
   ]
  },
  {
   "cell_type": "code",
   "execution_count": 171,
   "metadata": {},
   "outputs": [],
   "source": [
    "# Receiver Operating Characteristics for Random Forest \n",
    "fpr_rf ,  tpr_rf ,  thresholds_rf  =  roc_curve ( y_test ,  rf_predict_proba [:, 1 ]) \n",
    "rf_auc  =  auc ( fpr_rf ,  tpr_rf )"
   ]
  },
  {
   "cell_type": "markdown",
   "metadata": {},
   "source": [
    "### Gradient Boosting Classifier"
   ]
  },
  {
   "cell_type": "code",
   "execution_count": 172,
   "metadata": {},
   "outputs": [
    {
     "name": "stdout",
     "output_type": "stream",
     "text": [
      "Score of the gradient boosting classifier:  0.800 \n"
     ]
    }
   ],
   "source": [
    "gbc  =  GradientBoostingClassifier ( n_estimators = 100 ,  learning_rate = 1.0 , \n",
    "                                  max_depth = 1 ,  random_state = 0 ) \n",
    "gbc . fit ( X_train ,  y_train )\n",
    "\n",
    "# Use score method to get accuracy of model \n",
    "score_gbc = gbc . score ( X_test ,  y_test ) \n",
    "print ( \"Score of the gradient boosting classifier: % .3f \"  %  score_gbc )\n",
    "\n",
    "gbc_predict  =  gbc . predict ( X_test ) \n",
    "gbc_predict_proba = gbc . predict_proba ( X_test )"
   ]
  },
  {
   "cell_type": "code",
   "execution_count": 173,
   "metadata": {},
   "outputs": [
    {
     "name": "stdout",
     "output_type": "stream",
     "text": [
      "              precision    recall  f1-score   support\n",
      "\n",
      "           0       0.82      0.96      0.88    370488\n",
      "           1       0.57      0.19      0.28     98514\n",
      "\n",
      "    accuracy                           0.80    469002\n",
      "   macro avg       0.69      0.57      0.58    469002\n",
      "weighted avg       0.76      0.80      0.76    469002\n",
      "\n"
     ]
    }
   ],
   "source": [
    "print ( classification_report ( y_test ,  gbc_predict ))"
   ]
  },
  {
   "cell_type": "code",
   "execution_count": 174,
   "metadata": {},
   "outputs": [
    {
     "name": "stdout",
     "output_type": "stream",
     "text": [
      "0.7796128611484292\n"
     ]
    }
   ],
   "source": [
    "# Receiver Operating Characteristics for Gradient Boosting Classifier \n",
    "fpr_gbc ,  tpr_gbc ,  thresholds_gbc  =  roc_curve ( y_test ,  gbc_predict_proba [:, 1 ]) \n",
    "gbc_auc  =  auc ( fpr_gbc ,  tpr_gbc )\n",
    "\n",
    "print ( gbc_auc )"
   ]
  },
  {
   "cell_type": "markdown",
   "metadata": {},
   "source": [
    "### SVM"
   ]
  },
  {
   "cell_type": "code",
   "execution_count": 176,
   "metadata": {},
   "outputs": [
    {
     "name": "stdout",
     "output_type": "stream",
     "text": [
      "Score of the gradient boosting classifier:  0.790 \n"
     ]
    }
   ],
   "source": [
    "svm  =  LinearSVC() \n",
    "svm.fit(X_train , y_train )\n",
    "\n",
    "# Use score method to get accuracy of model \n",
    "score_svm = svm.score ( X_test ,  y_test ) \n",
    "print ( \"Score of the gradient boosting classifier: % .3f \"  %  score_svm )\n",
    "\n",
    "svm_predict  =  svm.predict ( X_test ) "
   ]
  },
  {
   "cell_type": "code",
   "execution_count": 177,
   "metadata": {},
   "outputs": [
    {
     "name": "stdout",
     "output_type": "stream",
     "text": [
      "              precision    recall  f1-score   support\n",
      "\n",
      "           0       0.79      1.00      0.88    370488\n",
      "           1       0.00      0.00      0.00     98514\n",
      "\n",
      "    accuracy                           0.79    469002\n",
      "   macro avg       0.39      0.50      0.44    469002\n",
      "weighted avg       0.62      0.79      0.70    469002\n",
      "\n"
     ]
    }
   ],
   "source": [
    "print ( classification_report ( y_test ,  svm_predict ))"
   ]
  },
  {
   "cell_type": "markdown",
   "metadata": {},
   "source": [
    "### Naive Bayes"
   ]
  },
  {
   "cell_type": "code",
   "execution_count": 117,
   "metadata": {},
   "outputs": [
    {
     "name": "stdout",
     "output_type": "stream",
     "text": [
      "Accuracy: 0.7899497230288997\n"
     ]
    }
   ],
   "source": [
    "### Naiva Bayes\n",
    "#Import Gaussian Naive Bayes model\n",
    "from sklearn.naive_bayes import GaussianNB\n",
    "\n",
    "#Create a Gaussian Classifier\n",
    "gnb = GaussianNB()\n",
    "\n",
    "#Train the model using the training sets\n",
    "gnb.fit(X_train, y_train)\n",
    "\n",
    "#Predict the response for test dataset\n",
    "y_pred = gnb.predict(X_test)\n",
    "score_nb  =  gnb. score ( X_test ,  y_test )\n",
    "\n",
    "#Import scikit-learn metrics module for accuracy calculation\n",
    "from sklearn import metrics\n",
    "\n",
    "# Model Accuracy, how often is the classifier correct?\n",
    "print(\"Accuracy:\",metrics.accuracy_score(y_test, y_pred))\n"
   ]
  },
  {
   "cell_type": "code",
   "execution_count": 119,
   "metadata": {},
   "outputs": [
    {
     "name": "stdout",
     "output_type": "stream",
     "text": [
      "              precision    recall  f1-score   support\n",
      "\n",
      "           0       0.79      1.00      0.88    370488\n",
      "           1       0.00      0.00      0.00     98514\n",
      "\n",
      "    accuracy                           0.79    469002\n",
      "   macro avg       0.39      0.50      0.44    469002\n",
      "weighted avg       0.62      0.79      0.70    469002\n",
      "\n"
     ]
    }
   ],
   "source": [
    "print ( classification_report ( y_test ,  y_pred ))"
   ]
  },
  {
   "cell_type": "markdown",
   "metadata": {},
   "source": [
    "### ROC curve "
   ]
  },
  {
   "cell_type": "code",
   "execution_count": 181,
   "metadata": {},
   "outputs": [
    {
     "data": {
      "image/png": "[encoded data removed]",
      "text/plain": [
       "<Figure size 720x648 with 1 Axes>"
      ]
     },
     "metadata": {
      "needs_background": "light"
     },
     "output_type": "display_data"
    }
   ],
   "source": [
    "#Display the ROC curce\n",
    "\n",
    "fig  =  plt . figure ( figsize = ( 10 , 9 ))\n",
    "\n",
    "plt . plot ( fpr_rf ,  tpr_rf ,  label = 'Random Forest AUC = % 0.2f '  % rf_auc )\n",
    "plt . plot ( fpr_gbc ,  tpr_gbc ,  label = 'Gradient Boosting Classifier AUC = % 0.2f '  % gbc_auc )\n",
    "\n",
    "\n",
    "plt . plot ([ 0 , 1 ], [ 0 , 1 ],  linestyle = '-' ) \n",
    "plt . xlabel ( 'False positive rate' ) \n",
    "plt . ylabel ( 'True positive rate' ) \n",
    "plt . title ( 'ROC curve' ) \n",
    "plt . legend ( loc = 'best' ) \n",
    "plt . show ()\n",
    "\n",
    "fig . savefig ( r\"C:\\Users\\manas\\OneDrive\\Documents\\STEVENS\\sem 2\\KDD\\final project\\results\\ROC_grav_3.png\" )"
   ]
  },
  {
   "cell_type": "code",
   "execution_count": 128,
   "metadata": {},
   "outputs": [
    {
     "data": {
      "image/png": "[encoded data removed]",
      "text/plain": [
       "<Figure size 432x288 with 1 Axes>"
      ]
     },
     "metadata": {
      "needs_background": "light"
     },
     "output_type": "display_data"
    }
   ],
   "source": [
    "import matplotlib.pyplot as plt\n",
    "fig = plt.figure()\n",
    "ax = fig.add_axes([0,10,1,1])\n",
    "models = ['Naive Bayes', 'Logistic \\nregression', 'Random \\nForest', 'Gradient \\nBoosting', 'SVM']\n",
    "Accuracy = [79,79,92,79,79]\n",
    "ax.bar(models,Accuracy)\n",
    "plt.show()"
   ]
  },
  {
   "cell_type": "code",
   "execution_count": null,
   "metadata": {},
   "outputs": [],
   "source": []
  }
 ],
 "metadata": {
  "kernelspec": {
   "display_name": "Python 3",
   "language": "python",
   "name": "python3"
  },
  "language_info": {
   "codemirror_mode": {
    "name": "ipython",
    "version": 3
   },
   "file_extension": ".py",
   "mimetype": "text/x-python",
   "name": "python",
   "nbconvert_exporter": "python",
   "pygments_lexer": "ipython3",
   "version": "3.7.6"
  }
 },
 "nbformat": 4,
 "nbformat_minor": 4
}
